{
 "cells": [
  {
   "cell_type": "code",
   "execution_count": 3,
   "metadata": {},
   "outputs": [],
   "source": [
    "import pandas as pd\n",
    "\n",
    "# Read in specified columns\n",
    "df = pd.read_csv(\n",
    "    \"data/natural_disasters_raw.csv\",\n",
    "    usecols=[\"Year\", \"Disaster Subgroup\", \"Disaster Type\", \"Event Name\", \"ISO\", \"Region\", \"Continent\", \"Latitude\", \"Longitude\", \"Local Time\", \"Total Damages ('000 US$)\"]\n",
    ")\n",
    "\n",
    "# Read in countries\n",
    "countries = pd.read_csv(\"data/countries.csv\", usecols=[\"ISO\", \"Country\"])\n",
    "\n",
    "# Merge countries to get cleaned names\n",
    "df = df.merge(countries, how=\"left\", on=[\"ISO\"])\n",
    "\n",
    "# Reorder columns\n",
    "df = df.loc[:, ['Year', 'Disaster Subgroup', 'Disaster Type', 'Event Name', 'ISO', 'Country', 'Region', 'Continent', 'Latitude', 'Longitude', 'Local Time', \"Total Damages ('000 US$)\"]]\n",
    "\n",
    "# Write to csv\n",
    "df.to_csv('data/natural_disasters.csv')"
   ]
  }
 ],
 "metadata": {
  "kernelspec": {
   "display_name": "env",
   "language": "python",
   "name": "python3"
  },
  "language_info": {
   "codemirror_mode": {
    "name": "ipython",
    "version": 3
   },
   "file_extension": ".py",
   "mimetype": "text/x-python",
   "name": "python",
   "nbconvert_exporter": "python",
   "pygments_lexer": "ipython3",
   "version": "3.12.4"
  }
 },
 "nbformat": 4,
 "nbformat_minor": 2
}
